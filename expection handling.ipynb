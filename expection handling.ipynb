{
  "metadata": {
    "kernelspec": {
      "name": "python",
      "display_name": "Python (Pyodide)",
      "language": "python"
    },
    "language_info": {
      "codemirror_mode": {
        "name": "python",
        "version": 3
      },
      "file_extension": ".py",
      "mimetype": "text/x-python",
      "name": "python",
      "nbconvert_exporter": "python",
      "pygments_lexer": "ipython3",
      "version": "3.8"
    }
  },
  "nbformat_minor": 4,
  "nbformat": 4,
  "cells": [
    {
      "cell_type": "code",
      "source": "#1\nException: An exception is an event that occurs during the execution of a program that disrupts the normal flow of the program's instructions. It typically indicates errors that happen due to unexpected conditions, such as division by zero or file not found.\n\nDifference between Exceptions and Syntax Errors:\n\nExceptions: These are errors that occur during the execution of a program. They can be handled using try-except blocks. Examples include ZeroDivisionError, FileNotFoundError, etc.\n\nSyntax Errors: These are errors caused by the incorrect use of Python syntax. They are detected before the program is run and cannot be handled using try-except blocks. Examples include missing colons, unmatched parentheses, etc.",
      "metadata": {
        "trusted": true
      },
      "outputs": [],
      "execution_count": null
    },
    {
      "cell_type": "code",
      "source": "#2\nWhen an exception is not handled, the program terminates abruptly, and an error message is displayed. This is known as an \"unhandled exception.\"",
      "metadata": {
        "trusted": true
      },
      "outputs": [],
      "execution_count": null
    },
    {
      "cell_type": "code",
      "source": "def divide(a, b):\n    return a / b\n\nresult = divide(10, 0)\nprint(result)\n",
      "metadata": {
        "trusted": true,
        "scrolled": true
      },
      "outputs": [],
      "execution_count": null
    },
    {
      "cell_type": "code",
      "source": "#3\nThe try, except, else, and finally statements are used to catch and handle exceptions in Python",
      "metadata": {
        "trusted": true
      },
      "outputs": [],
      "execution_count": null
    },
    {
      "cell_type": "code",
      "source": "try:\n    # Code that might raise an exception\n    result = 10 / 0\nexcept ZeroDivisionError:\n    # Code to handle the exception\n    print(\"Cannot divide by zero\")\nelse:\n    # Code to execute if no exception occurs\n    print(\"Division successful\")\nfinally:\n    # Code to execute regardless of whether an exception occurs or not\n    print(\"Execution completed\")\n",
      "metadata": {
        "trusted": true
      },
      "outputs": [
        {
          "name": "stdout",
          "text": "Cannot divide by zero\nExecution completed\n",
          "output_type": "stream"
        }
      ],
      "execution_count": 2
    },
    {
      "cell_type": "code",
      "source": "#4\ntry and else: The else block is executed if no exceptions are raised in the try block.\n\nfinally: The finally block is always executed, regardless of whether an exception is raised or not.\n\nraise: The raise keyword is used to raise an exception manually.\n\nExample:",
      "metadata": {
        "trusted": true
      },
      "outputs": [],
      "execution_count": null
    },
    {
      "cell_type": "code",
      "source": "try:\n    number = int(input(\"Enter a number: \"))\n    if number < 0:\n        raise ValueError(\"Negative number is not allowed\")\nexcept ValueError as e:\n    print(e)\nelse:\n    print(\"The entered number is:\", number)\nfinally:\n    print(\"Execution completed\")\n",
      "metadata": {
        "trusted": true
      },
      "outputs": [],
      "execution_count": null
    },
    {
      "cell_type": "code",
      "source": "#5\nCustom Exceptions: Custom exceptions are user-defined exceptions that extend the built-in Exception class. They are used to handle specific error conditions that are not covered by built-in exceptions.\n\nWhy We Need Custom Exceptions: Custom exceptions provide a way to create meaningful and descriptive error messages that are specific to the application's needs. They help in identifying and handling specific error conditions more effectively.",
      "metadata": {
        "trusted": true
      },
      "outputs": [],
      "execution_count": null
    },
    {
      "cell_type": "code",
      "source": "class NegativeNumberError(Exception):\n    def __init__(self, message=\"Negative number is not allowed\"):\n        self.message = message\n        super().__init__(self.message)\n\ndef check_positive(number):\n    if number < 0:\n        raise NegativeNumberError\n    return number\n\ntry:\n    num = check_positive(-5)\nexcept NegativeNumberError as e:\n    print(e)\n",
      "metadata": {
        "trusted": true
      },
      "outputs": [
        {
          "name": "stdout",
          "text": "Negative number is not allowed\n",
          "output_type": "stream"
        }
      ],
      "execution_count": 6
    },
    {
      "cell_type": "code",
      "source": "#6\nclass AgeTooLowError(Exception):\n    def __init__(self, message=\"Age is too low to proceed\"):\n        self.message = message\n        super().__init__(self.message)\n\ndef verify_age(age):\n    if age < 18:\n        raise AgeTooLowError\n    return \"Age verified\"\n\ntry:\n    age = 15\n    print(verify_age(age))\nexcept AgeTooLowError as e:\n    print(e)\n",
      "metadata": {
        "trusted": true
      },
      "outputs": [
        {
          "name": "stdout",
          "text": "Age is too low to proceed\n",
          "output_type": "stream"
        }
      ],
      "execution_count": 7
    },
    {
      "cell_type": "code",
      "source": "",
      "metadata": {
        "trusted": true
      },
      "outputs": [],
      "execution_count": null
    }
  ]
}